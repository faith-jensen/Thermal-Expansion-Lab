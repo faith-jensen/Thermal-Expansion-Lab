{
 "cells": [
  {
   "cell_type": "code",
   "execution_count": 1,
   "metadata": {},
   "outputs": [],
   "source": [
    "#Thermal Expansion Lab"
   ]
  },
  {
   "cell_type": "code",
   "execution_count": 12,
   "metadata": {},
   "outputs": [
    {
     "name": "stdout",
     "output_type": "stream",
     "text": [
      "61.0\n"
     ]
    }
   ],
   "source": [
    "#aluminum\n",
    "\n",
    "import numpy as np \n",
    "\n",
    "def delta_T (Tf, Ti):\n",
    "    delta_T = Tf - Ti\n",
    "    return delta_T\n",
    "\n",
    "Tf = 85.89 #Celcius\n",
    "Ti = 24.89 #Celcius\n",
    "\n",
    "print(delta_T(Tf,Ti))"
   ]
  },
  {
   "cell_type": "code",
   "execution_count": 14,
   "metadata": {},
   "outputs": [
    {
     "name": "stdout",
     "output_type": "stream",
     "text": [
      "0.00117\n"
     ]
    }
   ],
   "source": [
    "#aluminum\n",
    "\n",
    "import numpy as np \n",
    "\n",
    "def delta_L (Lf, Li):\n",
    "    delta_L = Lf - Li\n",
    "    return delta_L\n",
    "\n",
    "Lf = .00117 #m\n",
    "Li = 0 #m\n",
    "\n",
    "print(delta_L(Lf,Li))"
   ]
  },
  {
   "cell_type": "code",
   "execution_count": 15,
   "metadata": {},
   "outputs": [
    {
     "name": "stdout",
     "output_type": "stream",
     "text": [
      "2.7167603213672042e-05\n"
     ]
    }
   ],
   "source": [
    "#aluminum\n",
    "\n",
    "import numpy as np\n",
    "\n",
    "def alpha (delta_L, L, delta_T):\n",
    "    alpha = (delta_L)/(L*delta_T)\n",
    "    return alpha\n",
    "\n",
    "delta_L = .00117 #m\n",
    "L = .706 #m\n",
    "delta_T = 61.0 #Celsius\n",
    "\n",
    "print(alpha(delta_L, L, delta_T))\n"
   ]
  },
  {
   "cell_type": "code",
   "execution_count": 18,
   "metadata": {},
   "outputs": [
    {
     "name": "stdout",
     "output_type": "stream",
     "text": [
      "1.4142135623730951e-05\n"
     ]
    }
   ],
   "source": [
    "#Uncertainty for delta_L\n",
    "import numpy as np\n",
    "\n",
    "def rule3(dA, dB):\n",
    "    dQ = np.sqrt(dA**2 + dB**2)\n",
    "    return dQ\n",
    "\n",
    "dA = .00001\n",
    "dB = .00001\n",
    "\n",
    "dQ = rule3(dA, dB)"
   ]
  },
  {
   "cell_type": "code",
   "execution_count": 19,
   "metadata": {},
   "outputs": [
    {
     "name": "stdout",
     "output_type": "stream",
     "text": [
      "0.4242640687119285\n"
     ]
    }
   ],
   "source": [
    "#Uncertainty of delta_T\n",
    "import numpy as np\n",
    "\n",
    "def rule3(dA, dB):\n",
    "    dQ = np.sqrt(dA**2 + dB**2)\n",
    "    return dQ\n",
    "\n",
    "dA = .3\n",
    "dB = .3\n",
    "\n",
    "dQ = rule3(dA, dB)\n",
    "print (dQ)\n"
   ]
  },
  {
   "cell_type": "code",
   "execution_count": 20,
   "metadata": {},
   "outputs": [
    {
     "name": "stdout",
     "output_type": "stream",
     "text": [
      "3.8081487416951494e-07\n"
     ]
    }
   ],
   "source": [
    "#Uncertainty of Alpha\n",
    "import numpy as np\n",
    "\n",
    "def rule4(m, dA, A, n, dB, B, p, dC, C, Q):\n",
    "    dQ = Q*np.sqrt(((m*dA)/A)**2 +((n*dB)/B)**2 + ((p*dC)/C)**2)\n",
    "    return dQ\n",
    "\n",
    "m = 1\n",
    "dA = 1.4142135623730951e-05\n",
    "A = .00117\n",
    "n = -1\n",
    "dB = .001\n",
    "B = .706\n",
    "p = -1\n",
    "dC = 0.4242640687119285\n",
    "C = 61.0\n",
    "Q = 2.7167603213672042e-05\n",
    "\n",
    "dQ = rule4(m, dA, A, n, dB, B, p, dC, C, Q)\n",
    "print (dQ)"
   ]
  },
  {
   "cell_type": "code",
   "execution_count": 28,
   "metadata": {},
   "outputs": [
    {
     "name": "stdout",
     "output_type": "stream",
     "text": [
      "55.8\n"
     ]
    }
   ],
   "source": [
    "#copper\n",
    "import numpy as np\n",
    "\n",
    "def delta_T (Tf, Ti):\n",
    "    delta_T = Tf - Ti\n",
    "    return delta_T\n",
    "\n",
    "Tf = 81.35 #Celcius\n",
    "Ti = 25.55 #Celcius\n",
    "\n",
    "print(delta_T(Tf,Ti))"
   ]
  },
  {
   "cell_type": "code",
   "execution_count": 30,
   "metadata": {},
   "outputs": [
    {
     "name": "stdout",
     "output_type": "stream",
     "text": [
      "0.00082\n"
     ]
    }
   ],
   "source": [
    "#copper\n",
    "import numpy as np \n",
    "\n",
    "def delta_L (Lf, Li):\n",
    "    delta_L = Lf - Li\n",
    "    return delta_L\n",
    "\n",
    "Lf = .00082 #m\n",
    "Li = 0 #m\n",
    "\n",
    "print(delta_L(Lf,Li))"
   ]
  },
  {
   "cell_type": "code",
   "execution_count": 29,
   "metadata": {},
   "outputs": [
    {
     "name": "stdout",
     "output_type": "stream",
     "text": [
      "2.0903756048068443e-05\n"
     ]
    }
   ],
   "source": [
    "#copper\n",
    "\n",
    "import numpy as np\n",
    "\n",
    "def alpha (delta_L, L, delta_T):\n",
    "    alpha = (delta_L)/(L*delta_T)\n",
    "    return alpha\n",
    "\n",
    "delta_L = .00082 #m\n",
    "L = .703 #m\n",
    "delta_T = 55.8 #Celsius\n",
    "\n",
    "print(alpha(delta_L, L, delta_T))\n"
   ]
  },
  {
   "cell_type": "code",
   "execution_count": 24,
   "metadata": {},
   "outputs": [
    {
     "name": "stdout",
     "output_type": "stream",
     "text": [
      "1.4142135623730951e-05\n"
     ]
    }
   ],
   "source": [
    "#Uncertainty for delta_L\n",
    "import numpy as np\n",
    "\n",
    "def rule3(dA, dB):\n",
    "    dQ = np.sqrt(dA**2 + dB**2)\n",
    "    return dQ\n",
    "\n",
    "dA = .00001\n",
    "dB = .00001\n",
    "\n",
    "dQ = rule3(dA, dB)\n",
    "print (dQ)\n"
   ]
  },
  {
   "cell_type": "code",
   "execution_count": 25,
   "metadata": {},
   "outputs": [
    {
     "name": "stdout",
     "output_type": "stream",
     "text": [
      "0.4242640687119285\n"
     ]
    }
   ],
   "source": [
    "#Uncertainty of delta_T\n",
    "import numpy as np\n",
    "\n",
    "def rule3(dA, dB):\n",
    "    dQ = np.sqrt(dA**2 + dB**2)\n",
    "    return dQ\n",
    "\n",
    "dA = .3\n",
    "dB = .3\n",
    "\n",
    "dQ = rule3(dA, dB)\n",
    "print (dQ)\n"
   ]
  },
  {
   "cell_type": "code",
   "execution_count": 31,
   "metadata": {},
   "outputs": [
    {
     "name": "stdout",
     "output_type": "stream",
     "text": [
      "3.9511725715478427e-07\n"
     ]
    }
   ],
   "source": [
    "#Uncertainty of Alpha\n",
    "import numpy as np\n",
    "\n",
    "def rule4(m, dA, A, n, dB, B, p, dC, C, Q):\n",
    "    dQ = Q*np.sqrt(((m*dA)/A)**2 +((n*dB)/B)**2 + ((p*dC)/C)**2)\n",
    "    return dQ\n",
    "\n",
    "m = 1\n",
    "dA = 1.4142135623730951e-05\n",
    "A = .00082\n",
    "n = -1\n",
    "dB = .001\n",
    "B = .703\n",
    "p = -1\n",
    "dC = 0.4242640687119285\n",
    "C = 55.8\n",
    "Q = 2.0903756048068443e-05\n",
    "\n",
    "dQ = rule4(m, dA, A, n, dB, B, p, dC, C, Q)\n",
    "print (dQ)"
   ]
  },
  {
   "cell_type": "markdown",
   "metadata": {},
   "source": [
    "# Aluminum Answer\n",
    "### 2.72x10^-5 +/- 3.81x10^-7 C^-1"
   ]
  },
  {
   "cell_type": "markdown",
   "metadata": {},
   "source": [
    "# Copper Answer\n",
    "### 2.09x10^5 +/- 3.95x10^-7 C^-1"
   ]
  },
  {
   "cell_type": "code",
   "execution_count": null,
   "metadata": {},
   "outputs": [],
   "source": []
  }
 ],
 "metadata": {
  "kernelspec": {
   "display_name": "Python 3",
   "language": "python",
   "name": "python3"
  },
  "language_info": {
   "codemirror_mode": {
    "name": "ipython",
    "version": 3
   },
   "file_extension": ".py",
   "mimetype": "text/x-python",
   "name": "python",
   "nbconvert_exporter": "python",
   "pygments_lexer": "ipython3",
   "version": "3.8.3"
  }
 },
 "nbformat": 4,
 "nbformat_minor": 4
}
